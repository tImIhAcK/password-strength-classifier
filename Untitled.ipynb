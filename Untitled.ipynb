{
 "cells": [
  {
   "cell_type": "markdown",
   "id": "62a2d8b1",
   "metadata": {},
   "source": [
    "### IMPORT LIBRARIES"
   ]
  },
  {
   "cell_type": "code",
   "execution_count": 1,
   "id": "5163b74c",
   "metadata": {},
   "outputs": [],
   "source": [
    "import re\n",
    "import joblib\n",
    "import numpy as np\n",
    "import pandas as pd\n",
    "from sklearn import metrics\n",
    "from sklearn.model_selection import train_test_split\n",
    "from catboost import CatBoostClassifier"
   ]
  },
  {
   "cell_type": "code",
   "execution_count": 2,
   "id": "09861f75",
   "metadata": {
    "scrolled": true
   },
   "outputs": [
    {
     "data": {
      "text/html": [
       "<div>\n",
       "<style scoped>\n",
       "    .dataframe tbody tr th:only-of-type {\n",
       "        vertical-align: middle;\n",
       "    }\n",
       "\n",
       "    .dataframe tbody tr th {\n",
       "        vertical-align: top;\n",
       "    }\n",
       "\n",
       "    .dataframe thead th {\n",
       "        text-align: right;\n",
       "    }\n",
       "</style>\n",
       "<table border=\"1\" class=\"dataframe\">\n",
       "  <thead>\n",
       "    <tr style=\"text-align: right;\">\n",
       "      <th></th>\n",
       "      <th>password</th>\n",
       "      <th>strength</th>\n",
       "    </tr>\n",
       "  </thead>\n",
       "  <tbody>\n",
       "    <tr>\n",
       "      <th>0</th>\n",
       "      <td>kzde5577</td>\n",
       "      <td>1</td>\n",
       "    </tr>\n",
       "    <tr>\n",
       "      <th>1</th>\n",
       "      <td>kino3434</td>\n",
       "      <td>1</td>\n",
       "    </tr>\n",
       "    <tr>\n",
       "      <th>2</th>\n",
       "      <td>visi7k1yr</td>\n",
       "      <td>1</td>\n",
       "    </tr>\n",
       "    <tr>\n",
       "      <th>3</th>\n",
       "      <td>megzy123</td>\n",
       "      <td>1</td>\n",
       "    </tr>\n",
       "    <tr>\n",
       "      <th>4</th>\n",
       "      <td>lamborghin1</td>\n",
       "      <td>1</td>\n",
       "    </tr>\n",
       "  </tbody>\n",
       "</table>\n",
       "</div>"
      ],
      "text/plain": [
       "      password strength\n",
       "0     kzde5577        1\n",
       "1     kino3434        1\n",
       "2    visi7k1yr        1\n",
       "3     megzy123        1\n",
       "4  lamborghin1        1"
      ]
     },
     "execution_count": 2,
     "metadata": {},
     "output_type": "execute_result"
    }
   ],
   "source": [
    "df = pd.read_csv('data.csv', usecols=['password', 'strength'])\n",
    "df.head()"
   ]
  },
  {
   "cell_type": "markdown",
   "id": "2d875112",
   "metadata": {},
   "source": [
    "### BASIC EDA AND DATA CLEANING"
   ]
  },
  {
   "cell_type": "code",
   "execution_count": 3,
   "id": "4ee2825a",
   "metadata": {},
   "outputs": [
    {
     "data": {
      "text/plain": [
       "1                            496708\n",
       "0                             89656\n",
       "2                             82979\n",
       "3                                 9\n",
       "n                                 5\n",
       "                              ...  \n",
       "jakuzen.57@hotmail.com            1\n",
       "axiselo@hotmail.com               1\n",
       "metaren@yandex.com                1\n",
       "melchazli@gmail.com               1\n",
       "efsane.mardinli@gmail.com         1\n",
       "Name: strength, Length: 443, dtype: int64"
      ]
     },
     "execution_count": 3,
     "metadata": {},
     "output_type": "execute_result"
    }
   ],
   "source": [
    "df['strength'].value_counts()"
   ]
  },
  {
   "cell_type": "code",
   "execution_count": 4,
   "id": "6968e796",
   "metadata": {},
   "outputs": [
    {
     "data": {
      "text/plain": [
       "(669879, 2)"
      ]
     },
     "execution_count": 4,
     "metadata": {},
     "output_type": "execute_result"
    }
   ],
   "source": [
    "df.shape"
   ]
  },
  {
   "cell_type": "code",
   "execution_count": 5,
   "id": "49c409d7",
   "metadata": {},
   "outputs": [
    {
     "data": {
      "text/plain": [
       "(669343, 2)"
      ]
     },
     "execution_count": 5,
     "metadata": {},
     "output_type": "execute_result"
    }
   ],
   "source": [
    "# Convert the 'strength' column to numeric, setting errors='coerce' to convert non-numeric values to NaN\n",
    "df['strength'] = pd.to_numeric(df['strength'], errors='coerce')\n",
    "\n",
    "# Use boolean indexing to filter rows where 'strength' is in [0, 1, 2]\n",
    "valid_strengths = [0, 1, 2]\n",
    "df = df[df['strength'].isin(valid_strengths)]\n",
    "df.shape"
   ]
  },
  {
   "cell_type": "code",
   "execution_count": 6,
   "id": "1c993202",
   "metadata": {},
   "outputs": [
    {
     "data": {
      "text/plain": [
       "1.0    496708\n",
       "0.0     89656\n",
       "2.0     82979\n",
       "Name: strength, dtype: int64"
      ]
     },
     "execution_count": 6,
     "metadata": {},
     "output_type": "execute_result"
    }
   ],
   "source": [
    "df['strength'].value_counts()"
   ]
  },
  {
   "cell_type": "code",
   "execution_count": 7,
   "id": "e288d074",
   "metadata": {},
   "outputs": [],
   "source": [
    "df.dropna(inplace=True)"
   ]
  },
  {
   "cell_type": "markdown",
   "id": "e76d29d4",
   "metadata": {},
   "source": [
    "### FEATURE ENGINEERING "
   ]
  },
  {
   "cell_type": "markdown",
   "id": "babe55a7",
   "metadata": {},
   "source": [
    "##### Character count features"
   ]
  },
  {
   "cell_type": "code",
   "execution_count": 8,
   "id": "e6156f24",
   "metadata": {},
   "outputs": [],
   "source": [
    "df['length'] = df['password'].apply(len)\n",
    "df['has_uppercase'] = df['password'].apply(lambda x: 1 if any(char.isupper() for char in x) else 0)\n",
    "df['has_lowercase'] = df['password'].apply(lambda x: 1 if any(char.islower() for char in x) else 0)\n",
    "df['has_number'] = df['password'].apply(lambda x: 1 if any(char.isdigit() for char in x) else 0)\n",
    "df['has_special_char'] = df['password'].apply(lambda x: 1 if (pd.notna(x) and re.search(r'[!@#$%^&*(),.?\":{}|<>]', x)) else 0)\n",
    "df['uppercase_count'] = df['password'].apply(lambda x: sum(1 for char in x if char.isupper()))\n",
    "df['lowercase_count'] = df['password'].apply(lambda x: sum(1 for char in x if char.islower()))\n",
    "df['digit_count'] = df['password'].apply(lambda x: sum(1 for char in x if char.isdigit()))\n",
    "df['special_char_count'] = df['password'].apply(lambda x: len([char for char in x if not char.isalnum()]))"
   ]
  },
  {
   "cell_type": "markdown",
   "id": "66124398",
   "metadata": {},
   "source": [
    "##### Sequential character features"
   ]
  },
  {
   "cell_type": "code",
   "execution_count": 9,
   "id": "e89d0b68",
   "metadata": {
    "scrolled": true
   },
   "outputs": [],
   "source": [
    "df['consecutive_upper'] = df['password'].apply(lambda x: max((len(run) for run in x.split() if run.isupper()), default=0))\n",
    "df['consecutive_lower'] = df['password'].apply(lambda x: max((len(run) for run in x.split() if run.islower()), default=0))\n",
    "df['consecutive_digits'] = df['password'].apply(lambda x: max((len(run) for run in x.split() if run.isdigit()), default=0))"
   ]
  },
  {
   "cell_type": "markdown",
   "id": "f0abef32",
   "metadata": {},
   "source": [
    "##### Create a feature using the entropy score"
   ]
  },
  {
   "cell_type": "code",
   "execution_count": 10,
   "id": "2294afa9",
   "metadata": {},
   "outputs": [],
   "source": [
    "# Function to calculate Shannon entropy\n",
    "def calculate_entropy(password):\n",
    "    char_count = len(password)\n",
    "    if char_count == 0:\n",
    "        return 0.0\n",
    "    else:\n",
    "        char_set = set(password)\n",
    "        entropy_score = -sum((password.count(char) / char_count) * np.log2(password.count(char) / char_count) for char in char_set)\n",
    "        return entropy_score"
   ]
  },
  {
   "cell_type": "code",
   "execution_count": 11,
   "id": "d12b497f",
   "metadata": {},
   "outputs": [],
   "source": [
    "df['entropy'] = df['password'].apply(calculate_entropy)"
   ]
  },
  {
   "cell_type": "markdown",
   "id": "b534aa04",
   "metadata": {},
   "source": [
    "##### Create binary features for each keyboard pattern"
   ]
  },
  {
   "cell_type": "code",
   "execution_count": 12,
   "id": "a3da1d53",
   "metadata": {},
   "outputs": [],
   "source": [
    "# keyboard_patterns = [\"12345\", \"qwerty\", \"asdf\", \"password\", \"admin\", \"letmein\", \"123456\", \"abc123\", \"iloveyou\", \"monkey\", \"sunshine\", \"welcome\", \"superman\", \"princess\", \"dragon\", \"michael\", \"football\", \"baseball\", \"starwars\", \"shadow\"]\n",
    "\n",
    "# for pattern in keyboard_patterns:\n",
    "#     df[f'has_{pattern}'] = df['password'].apply(lambda x: int(pattern in x))"
   ]
  },
  {
   "cell_type": "markdown",
   "id": "a037f41f",
   "metadata": {},
   "source": [
    "#### n-grams (Subsequences)"
   ]
  },
  {
   "cell_type": "code",
   "execution_count": 13,
   "id": "c59ad90b",
   "metadata": {},
   "outputs": [],
   "source": [
    "# # Define specific bigrams to check for\n",
    "# specific_bigrams = [\"ab\", \"12\", \"zy\", \"xy\", \"qw\", \"as\", \"de\", \"56\", \"78\", \"cd\", \"fg\", \"jk\", \"mn\", \"pq\", \"uv\", \"wx\"]\n",
    "\n",
    "# specific_bigrams = [\"ab\", \"12\", \"zy\", \"xy\"]\n",
    "\n",
    "# # Extract 2-grams (bigrams) from each password\n",
    "# def extract_bigrams(text):\n",
    "#     return [text[i:i+2] for i in range(len(text) - 1)]\n",
    "\n",
    "# # Convert the list of passwords into space-separated strings\n",
    "# corpus = [' '.join(extract_bigrams(password)) for password in df['password']]\n",
    "\n",
    "# # Create a CountVectorizer to count the occurrence of specific bigrams\n",
    "# vectorizer = CountVectorizer(vocabulary=specific_bigrams, binary=True, token_pattern=r'\\S+')\n",
    "# bigram_features = vectorizer.transform(corpus).toarray()\n",
    "\n",
    "# # Create binary features for each specific bigram\n",
    "# for i, bigram in enumerate(specific_bigrams):\n",
    "#     df[f'has_{bigram}_bigram'] = bigram_features[:, i]"
   ]
  },
  {
   "cell_type": "markdown",
   "id": "9f32e27c",
   "metadata": {},
   "source": [
    "##### TRAIN MODEL"
   ]
  },
  {
   "cell_type": "code",
   "execution_count": 14,
   "id": "e45ce45f",
   "metadata": {},
   "outputs": [],
   "source": [
    "# Drop original password column\n",
    "df.drop('password', axis=1, inplace=True)\n",
    "\n",
    "# Define X and y\n",
    "X = df.drop('strength', axis=1) \n",
    "y = df['strength']"
   ]
  },
  {
   "cell_type": "code",
   "execution_count": 15,
   "id": "ea1cc3b0",
   "metadata": {
    "scrolled": true
   },
   "outputs": [],
   "source": [
    "x_train, x_test, y_train, y_test = train_test_split(X, y, test_size=0.33, random_state=23, stratify=y)"
   ]
  },
  {
   "cell_type": "code",
   "execution_count": 16,
   "id": "fa23d938",
   "metadata": {},
   "outputs": [
    {
     "name": "stdout",
     "output_type": "stream",
     "text": [
      "0:\tlearn: 0.9090852\ttest: 0.9090735\tbest: 0.9090735 (0)\ttotal: 507ms\tremaining: 8m 26s\n",
      "100:\tlearn: 0.0013720\ttest: 0.0011799\tbest: 0.0011799 (100)\ttotal: 46.9s\tremaining: 6m 57s\n",
      "200:\tlearn: 0.0012023\ttest: 0.0010365\tbest: 0.0010362 (193)\ttotal: 1m 44s\tremaining: 6m 53s\n",
      "300:\tlearn: 0.0011548\ttest: 0.0010110\tbest: 0.0010110 (300)\ttotal: 2m 26s\tremaining: 5m 39s\n",
      "400:\tlearn: 0.0011316\ttest: 0.0010040\tbest: 0.0010039 (396)\ttotal: 3m 28s\tremaining: 5m 11s\n",
      "500:\tlearn: 0.0011148\ttest: 0.0009969\tbest: 0.0009969 (500)\ttotal: 4m 27s\tremaining: 4m 26s\n",
      "600:\tlearn: 0.0011002\ttest: 0.0009948\tbest: 0.0009944 (596)\ttotal: 5m 23s\tremaining: 3m 34s\n",
      "700:\tlearn: 0.0010874\ttest: 0.0009908\tbest: 0.0009907 (679)\ttotal: 6m 21s\tremaining: 2m 42s\n",
      "800:\tlearn: 0.0010799\ttest: 0.0009915\tbest: 0.0009907 (679)\ttotal: 7m 13s\tremaining: 1m 47s\n",
      "900:\tlearn: 0.0010707\ttest: 0.0009898\tbest: 0.0009897 (896)\ttotal: 7m 56s\tremaining: 52.4s\n",
      "999:\tlearn: 0.0010655\ttest: 0.0009902\tbest: 0.0009897 (896)\ttotal: 8m 42s\tremaining: 0us\n",
      "\n",
      "bestTest = 0.0009896678825\n",
      "bestIteration = 896\n",
      "\n",
      "Shrink model to first 897 iterations.\n"
     ]
    },
    {
     "data": {
      "text/plain": [
       "<catboost.core.CatBoostClassifier at 0x7f46b2a37d30>"
      ]
     },
     "execution_count": 16,
     "metadata": {},
     "output_type": "execute_result"
    }
   ],
   "source": [
    "# Train CatBoost classifier\n",
    "model = CatBoostClassifier(iterations=1000, verbose=100, learning_rate=0.1)\n",
    "model.fit(x_train, y_train, eval_set=[(x_test, y_test)])"
   ]
  },
  {
   "cell_type": "code",
   "execution_count": 17,
   "id": "bb58b0b2",
   "metadata": {},
   "outputs": [
    {
     "name": "stdout",
     "output_type": "stream",
     "text": [
      "Accuracy: 0.9998505996387228\n",
      "F1 Score: 0.9998505996387228\n"
     ]
    }
   ],
   "source": [
    "# Make predictions\n",
    "y_pred = model.predict(x_test)\n",
    "\n",
    "print(\"Accuracy:\", metrics.accuracy_score(y_test, y_pred))\n",
    "print(\"F1 Score:\", metrics.f1_score(y_test, y_pred, average='micro'))"
   ]
  },
  {
   "cell_type": "code",
   "execution_count": 18,
   "id": "a6a7fcf9",
   "metadata": {},
   "outputs": [
    {
     "name": "stdout",
     "output_type": "stream",
     "text": [
      "              precision    recall  f1-score   support\n",
      "\n",
      "         0.0       1.00      1.00      1.00     29586\n",
      "         1.0       1.00      1.00      1.00    163914\n",
      "         2.0       1.00      1.00      1.00     27383\n",
      "\n",
      "    accuracy                           1.00    220883\n",
      "   macro avg       1.00      1.00      1.00    220883\n",
      "weighted avg       1.00      1.00      1.00    220883\n",
      "\n"
     ]
    }
   ],
   "source": [
    "print(metrics.classification_report(y_test, y_pred, zero_division=1))"
   ]
  },
  {
   "cell_type": "code",
   "execution_count": 19,
   "id": "ffb4371e",
   "metadata": {},
   "outputs": [
    {
     "data": {
      "text/plain": [
       "['model.joblib']"
      ]
     },
     "execution_count": 19,
     "metadata": {},
     "output_type": "execute_result"
    }
   ],
   "source": [
    "# Save model\n",
    "joblib.dump(model, 'model.joblib')"
   ]
  }
 ],
 "metadata": {
  "kernelspec": {
   "display_name": "Python 3 (ipykernel)",
   "language": "python",
   "name": "python3"
  },
  "language_info": {
   "codemirror_mode": {
    "name": "ipython",
    "version": 3
   },
   "file_extension": ".py",
   "mimetype": "text/x-python",
   "name": "python",
   "nbconvert_exporter": "python",
   "pygments_lexer": "ipython3",
   "version": "3.9.13"
  }
 },
 "nbformat": 4,
 "nbformat_minor": 5
}
