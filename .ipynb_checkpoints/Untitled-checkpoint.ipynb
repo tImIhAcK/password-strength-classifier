{
 "cells": [
  {
   "cell_type": "markdown",
   "id": "af887018",
   "metadata": {},
   "source": [
    "### IMPORT LIBRARIES"
   ]
  },
  {
   "cell_type": "code",
   "execution_count": 1,
   "id": "234d0da2",
   "metadata": {},
   "outputs": [],
   "source": [
    "import re\n",
    "import pandas as pd\n",
    "from catboost import CatBoostClassifier"
   ]
  },
  {
   "cell_type": "code",
   "execution_count": 2,
   "id": "415ccaee",
   "metadata": {
    "scrolled": true
   },
   "outputs": [
    {
     "data": {
      "text/html": [
       "<div>\n",
       "<style scoped>\n",
       "    .dataframe tbody tr th:only-of-type {\n",
       "        vertical-align: middle;\n",
       "    }\n",
       "\n",
       "    .dataframe tbody tr th {\n",
       "        vertical-align: top;\n",
       "    }\n",
       "\n",
       "    .dataframe thead th {\n",
       "        text-align: right;\n",
       "    }\n",
       "</style>\n",
       "<table border=\"1\" class=\"dataframe\">\n",
       "  <thead>\n",
       "    <tr style=\"text-align: right;\">\n",
       "      <th></th>\n",
       "      <th>password</th>\n",
       "      <th>strength</th>\n",
       "    </tr>\n",
       "  </thead>\n",
       "  <tbody>\n",
       "    <tr>\n",
       "      <th>0</th>\n",
       "      <td>kzde5577</td>\n",
       "      <td>1</td>\n",
       "    </tr>\n",
       "    <tr>\n",
       "      <th>1</th>\n",
       "      <td>kino3434</td>\n",
       "      <td>1</td>\n",
       "    </tr>\n",
       "    <tr>\n",
       "      <th>2</th>\n",
       "      <td>visi7k1yr</td>\n",
       "      <td>1</td>\n",
       "    </tr>\n",
       "    <tr>\n",
       "      <th>3</th>\n",
       "      <td>megzy123</td>\n",
       "      <td>1</td>\n",
       "    </tr>\n",
       "    <tr>\n",
       "      <th>4</th>\n",
       "      <td>lamborghin1</td>\n",
       "      <td>1</td>\n",
       "    </tr>\n",
       "  </tbody>\n",
       "</table>\n",
       "</div>"
      ],
      "text/plain": [
       "      password strength\n",
       "0     kzde5577        1\n",
       "1     kino3434        1\n",
       "2    visi7k1yr        1\n",
       "3     megzy123        1\n",
       "4  lamborghin1        1"
      ]
     },
     "execution_count": 2,
     "metadata": {},
     "output_type": "execute_result"
    }
   ],
   "source": [
    "df = pd.read_csv('data.csv', usecols=['password', 'strength'])\n",
    "df.head()"
   ]
  },
  {
   "cell_type": "markdown",
   "id": "3cd2d74e",
   "metadata": {},
   "source": [
    "### BASIC EDA AND DATA CLEANING"
   ]
  },
  {
   "cell_type": "code",
   "execution_count": 3,
   "id": "d9dc4f22",
   "metadata": {},
   "outputs": [
    {
     "data": {
      "text/plain": [
       "1                            496708\n",
       "0                             89656\n",
       "2                             82979\n",
       "3                                 9\n",
       "n                                 5\n",
       "                              ...  \n",
       "jakuzen.57@hotmail.com            1\n",
       "axiselo@hotmail.com               1\n",
       "metaren@yandex.com                1\n",
       "melchazli@gmail.com               1\n",
       "efsane.mardinli@gmail.com         1\n",
       "Name: strength, Length: 443, dtype: int64"
      ]
     },
     "execution_count": 3,
     "metadata": {},
     "output_type": "execute_result"
    }
   ],
   "source": [
    "df['strength'].value_counts()"
   ]
  },
  {
   "cell_type": "code",
   "execution_count": 4,
   "id": "285a6e90",
   "metadata": {},
   "outputs": [
    {
     "data": {
      "text/plain": [
       "(669879, 2)"
      ]
     },
     "execution_count": 4,
     "metadata": {},
     "output_type": "execute_result"
    }
   ],
   "source": [
    "df.shape"
   ]
  },
  {
   "cell_type": "code",
   "execution_count": 5,
   "id": "75b31bc1",
   "metadata": {},
   "outputs": [
    {
     "data": {
      "text/plain": [
       "(669352, 2)"
      ]
     },
     "execution_count": 5,
     "metadata": {},
     "output_type": "execute_result"
    }
   ],
   "source": [
    "# Convert the 'strength' column to numeric, setting errors='coerce' to convert non-numeric values to NaN\n",
    "df['strength'] = pd.to_numeric(df['strength'], errors='coerce')\n",
    "\n",
    "# Use boolean indexing to filter rows where 'strength' is in [0, 1, 2, 3]\n",
    "valid_strengths = [0, 1, 2, 3]\n",
    "df = df[df['strength'].isin(valid_strengths)]\n",
    "df.shape"
   ]
  },
  {
   "cell_type": "code",
   "execution_count": 6,
   "id": "aad38047",
   "metadata": {},
   "outputs": [
    {
     "data": {
      "text/plain": [
       "1.0    496708\n",
       "0.0     89656\n",
       "2.0     82979\n",
       "3.0         9\n",
       "Name: strength, dtype: int64"
      ]
     },
     "execution_count": 6,
     "metadata": {},
     "output_type": "execute_result"
    }
   ],
   "source": [
    "df['strength'].value_counts()"
   ]
  },
  {
   "cell_type": "code",
   "execution_count": 7,
   "id": "41e89565",
   "metadata": {},
   "outputs": [],
   "source": [
    "df.dropna(inplace=True)"
   ]
  },
  {
   "cell_type": "markdown",
   "id": "46b995f7",
   "metadata": {},
   "source": [
    "### FEATURE ENGINEERING "
   ]
  },
  {
   "cell_type": "markdown",
   "id": "6ab4d1ae",
   "metadata": {},
   "source": [
    "##### Character count features"
   ]
  },
  {
   "cell_type": "code",
   "execution_count": 10,
   "id": "fa7d6b73",
   "metadata": {},
   "outputs": [],
   "source": [
    "df['length'] = df['password'].apply(len)\n",
    "df['has_uppercase'] = df['password'].apply(lambda x: 1 if any(char.isupper() for char in x) else 0)\n",
    "df['has_lowercase'] = df['password'].apply(lambda x: 1 if any(char.islower() for char in x) else 0)\n",
    "df['has_number'] = df['password'].apply(lambda x: 1 if any(char.isdigit() for char in x) else 0)\n",
    "df['has_special_char'] = df['password'].apply(lambda x: 1 if (pd.notna(x) and re.search(r'[!@#$%^&*(),.?\":{}|<>]', x)) else 0)\n",
    "df['uppercase_count'] = df['password'].apply(lambda x: sum(1 for char in x if char.isupper()))\n",
    "df['lowercase_count'] = df['password'].apply(lambda x: sum(1 for char in x if char.islower()))\n",
    "df['digit_count'] = df['password'].apply(lambda x: sum(1 for char in x if char.isdigit()))\n",
    "df['special_char_count'] = df['password'].apply(lambda x: len([char for char in x if not char.isalnum()]))"
   ]
  },
  {
   "cell_type": "markdown",
   "id": "9971b178",
   "metadata": {},
   "source": [
    "##### Sequential character features"
   ]
  },
  {
   "cell_type": "code",
   "execution_count": null,
   "id": "9c28504c",
   "metadata": {},
   "outputs": [],
   "source": [
    "df['consecutive_upper'] = df['password'].apply(lambda x: max(len(run) for run in x.split() if run.isupper()))\n",
    "df['consecutive_lower'] = df['password'].apply(lambda x: max(len(run) for run in x.split() if run.islower()))\n",
    "df['consecutive_digits'] = df['password'].apply(lambda x: max(len(run) for run in x.split() if run.isdigit()))"
   ]
  },
  {
   "cell_type": "markdown",
   "id": "661fae8a",
   "metadata": {},
   "source": [
    "##### Create a feature using the entropy score"
   ]
  },
  {
   "cell_type": "code",
   "execution_count": null,
   "id": "781d9a8c",
   "metadata": {},
   "outputs": [],
   "source": [
    "# Function to calculate Shannon entropy\n",
    "def calculate_entropy(password):\n",
    "    char_count = len(password)\n",
    "    if char_count == 0:\n",
    "        return 0.0\n",
    "    else:\n",
    "        char_set = set(password)\n",
    "        entropy_score = -sum((password.count(char) / char_count) * np.log2(password.count(char) / char_count) for char in char_set)\n",
    "        return entropy_score"
   ]
  },
  {
   "cell_type": "code",
   "execution_count": null,
   "id": "3de7f0e7",
   "metadata": {},
   "outputs": [],
   "source": [
    "df['entropy'] = df['password'].apply(calculate_entropy)"
   ]
  },
  {
   "cell_type": "markdown",
   "id": "38840efa",
   "metadata": {},
   "source": [
    "##### Create binary features for each keyboard pattern"
   ]
  },
  {
   "cell_type": "code",
   "execution_count": null,
   "id": "55389cc5",
   "metadata": {},
   "outputs": [],
   "source": [
    "# keyboard_patterns = [\"12345\", \"qwerty\", \"asdf\", \"password\", \"admin\", \"letmein\", \"123456\", \"abc123\", \"iloveyou\", \"monkey\", \"sunshine\", \"welcome\", \"superman\", \"princess\", \"dragon\", \"michael\", \"football\", \"baseball\", \"starwars\", \"shadow\"]\n",
    "\n",
    "# for pattern in keyboard_patterns:\n",
    "#     df[f'has_{pattern}'] = df['password'].apply(lambda x: int(pattern in x))"
   ]
  },
  {
   "cell_type": "markdown",
   "id": "093d9c26",
   "metadata": {},
   "source": [
    "#### n-grams (Subsequences)"
   ]
  },
  {
   "cell_type": "code",
   "execution_count": null,
   "id": "28f8bca7",
   "metadata": {},
   "outputs": [],
   "source": [
    "# # Define specific bigrams to check for\n",
    "# specific_bigrams = [\"ab\", \"12\", \"zy\", \"xy\", \"qw\", \"as\", \"de\", \"56\", \"78\", \"cd\", \"fg\", \"jk\", \"mn\", \"pq\", \"uv\", \"wx\"]\n",
    "\n",
    "# specific_bigrams = [\"ab\", \"12\", \"zy\", \"xy\"]\n",
    "\n",
    "# # Extract 2-grams (bigrams) from each password\n",
    "# def extract_bigrams(text):\n",
    "#     return [text[i:i+2] for i in range(len(text) - 1)]\n",
    "\n",
    "# # Convert the list of passwords into space-separated strings\n",
    "# corpus = [' '.join(extract_bigrams(password)) for password in df['password']]\n",
    "\n",
    "# # Create a CountVectorizer to count the occurrence of specific bigrams\n",
    "# vectorizer = CountVectorizer(vocabulary=specific_bigrams, binary=True, token_pattern=r'\\S+')\n",
    "# bigram_features = vectorizer.transform(corpus).toarray()\n",
    "\n",
    "# # Create binary features for each specific bigram\n",
    "# for i, bigram in enumerate(specific_bigrams):\n",
    "#     df[f'has_{bigram}_bigram'] = bigram_features[:, i]"
   ]
  }
 ],
 "metadata": {
  "kernelspec": {
   "display_name": "Python 3 (ipykernel)",
   "language": "python",
   "name": "python3"
  },
  "language_info": {
   "codemirror_mode": {
    "name": "ipython",
    "version": 3
   },
   "file_extension": ".py",
   "mimetype": "text/x-python",
   "name": "python",
   "nbconvert_exporter": "python",
   "pygments_lexer": "ipython3",
   "version": "3.9.13"
  }
 },
 "nbformat": 4,
 "nbformat_minor": 5
}
